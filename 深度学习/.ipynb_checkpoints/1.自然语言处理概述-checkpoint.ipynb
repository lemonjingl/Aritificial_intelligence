{
 "cells": [
  {
   "cell_type": "markdown",
   "metadata": {},
   "source": [
    "### 自然语言概述\n",
    "自然语言是指汉语、英语、法语等人们日常使用的语言，是自然而然的随着人类社会发展演变而来的语言，它是人类学习生活的重要工具。    \n",
    "\n",
    "概述来说，自然语言是指人类社会约定俗成的，并且区别于人工语言（如计算机程序）语言。\n"
   ]
  },
  {
   "cell_type": "markdown",
   "metadata": {},
   "source": [
    "### 自然语言处理\n",
    "自然语言处理（Natural Language Processing,NLP）是一门以计算机为工具，对书面或口头形式的语言进行各种处理和加工的技术，同时也是研究人与人交际中以及人与计算机交际中语言问题的一门科学。    \n",
    "NLP是计算机科学领域以及人工智能领域的一个重要的研究方向，是一门融语言学、计算机科学、数学、统计学于一体的科学。"
   ]
  },
  {
   "cell_type": "markdown",
   "metadata": {},
   "source": [
    "### NLP的发展历程\n",
    "1956年一以前的萌芽期    \n",
    "1980~1999年的快速发展期    \n",
    "21世纪的突飞猛进期    "
   ]
  },
  {
   "cell_type": "markdown",
   "metadata": {},
   "source": [
    "### 深度学习与NLP\n",
    "NLP是人工智能研究的一个子领域，也是人工智能中最为困难的问题之一。    \n",
    "人工智能技术即是让机器能够像人类一样自动化完成智能任务的技术，其关键点在于智能和自动化。    \n",
    "深度学习引入到NLP领域中，在机器翻译、问答系统、自动摘要等方向取得成功。    \n"
   ]
  },
  {
   "cell_type": "markdown",
   "metadata": {},
   "source": [
    "### NLP研究内容\n",
    "- 机器翻译\n",
    "- 文本分类\n",
    "- 智能问答\n",
    "- 自动文摘\n",
    "- 舆情分析\n",
    "\n",
    "简而言之：\n",
    "        不同的语言之间是无法沟通的，比如说人类就无法听懂狗叫，甚至不同语言的人类之间都无法直接交流，需要翻译才能交流。\n",
    "        1.自然语言处理（NLP）就是在机器语言和人类语言之间沟通的桥梁，以实现人机交流的目的。\n",
    "    "
   ]
  }
 ],
 "metadata": {
  "kernelspec": {
   "display_name": "Python 3 (ipykernel)",
   "language": "python",
   "name": "python3"
  },
  "language_info": {
   "codemirror_mode": {
    "name": "ipython",
    "version": 3
   },
   "file_extension": ".py",
   "mimetype": "text/x-python",
   "name": "python",
   "nbconvert_exporter": "python",
   "pygments_lexer": "ipython3",
   "version": "3.10.9"
  },
  "toc": {
   "base_numbering": 1,
   "nav_menu": {},
   "number_sections": true,
   "sideBar": true,
   "skip_h1_title": false,
   "title_cell": "Table of Contents",
   "title_sidebar": "Contents",
   "toc_cell": false,
   "toc_position": {},
   "toc_section_display": true,
   "toc_window_display": false
  }
 },
 "nbformat": 4,
 "nbformat_minor": 2
}
