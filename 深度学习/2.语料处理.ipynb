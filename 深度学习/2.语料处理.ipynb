{
 "cells": [
  {
   "cell_type": "markdown",
   "metadata": {},
   "source": [
    "### 一、NLP的基本流程\n",
    "NLP可以使用传统的机器学习方法来处理，也可以使用深度学习的方法来处理，过程类似。    \n",
    "- 方式1：传统机器学习的NLP流程    \n",
    "语料获取--》1.语料预处理--》分词、去停用词--》特征工程--》机器学习建模\n",
    "\n",
    "- 方式2：深度学习的NLP流程    \n",
    "语料获取--》1.语料预处理--》分词、去停用词--》3.文本向量化--》深度学习建模\n"
   ]
  },
  {
   "cell_type": "markdown",
   "metadata": {},
   "source": [
    "### 二、语料字符处理\n",
    "#### 1、字符串处理\n",
    "字符串是Python中最常用的数据类型，可以使用引号来创建字符串。    \n",
    "- 常见的字符串处理函数如下（chars表示字符串）：\n",
    "    - len(chars):                       计算字符串的长度\n",
    "    - str[start:end:step]:              字符串截取\n",
    "    - str.split(sep,maxsplit):          字符串分割\n",
    "    - str.find(chars):                  查找字符串位置\n",
    "    - str.count(chars):                 字符串数量位置\n",
    "    - str.strip(chars):                 删除字符串前后的特殊字符或空格\n",
    "    - str.replace(chars|chars2|...,rep):把字符串chars|chars2..替换成rep\n"
   ]
  },
  {
   "cell_type": "code",
   "execution_count": null,
   "metadata": {},
   "outputs": [],
   "source": [
    "import re\n",
    "import pandas as pd\n",
    "import numpy as np\n",
    "\n",
    "data=pd.read_excel('.\\data\\news.xls')\n",
    "# ----------字符串函数处理----------\n",
    "x=data['title'][0]\n",
    "len(x) # 长度\n",
    "x[3:10:2] # 字符串截取\n",
    "x.split('，') # 字符串分割\n",
    "x.count('●') # 字符串计数\n",
    "x.find('司机') # 查找字符串的位置\n",
    "x.strip() # 去掉字符串前后的特殊字符，空格、换行制表符等等\n",
    "x.replace('●','') # 字符串替换\n",
    "x.replace('●|★|→', '') # 多个字符无法同时处理，有局限性"
   ]
  },
  {
   "cell_type": "markdown",
   "metadata": {},
   "source": [
    "#### 2.正则表达式函数\n",
    "正则表达式是一种可以用于模式匹配的替换工具 ，能方便的检查一个字符串是否与某种模式匹配。    \n",
    "通过正则表达式可以对指定的文本实现匹配测试、内容查找、内容替换、字符串分割等功能。    \n",
    "- re模块支持正则表达式，正则表达式常用函数如下：\n",
    "    - re.match(pattern,strinig)：检测字符串开头位置是否匹配模式pattern.\n",
    "    - re.search(pattern,strinig)：在整个字符串内查找并返回第一个成功的匹配模式- pattern\n",
    "    - re.findall(pattern,strinig)：返回字符串中所有匹配模式pattern的结果列表\n",
    "    - re.sub(pattern,strinig)：把所有匹配模式pattern的字符串用指定的字符串repl替换\n",
    "    - re.split(pattern,strinig)：根据正则表达式分割字符串，将分割后的所有字符串放在一个表中返回。\n",
    "\n",
    "\n",
    "- 正则表达式的元字符    \n",
    "元字符由特殊符号组成，元字符的应用是正则表达式强大的原因，元字符定义了字符集合、子组匹配、模式重复次数。     \n",
    "- 元字符使得正则表达式不仅可以匹配一个字符串，还可以匹配字符串集合。\n",
    "    - 1.字符匹配\n",
    "        - 英文句号”.“：匹配任意一个字符，表示匹配除去换行符”\\n“之外的任意一个字符。\n",
    "        - 中括号”[]“：匹配多个字符，表示包含在中括号内部的字符都会被匹配。\n",
    "        - 管道符”|“：用于两个正则表达式进行或操作\n",
    "        - 乘方符号”^“：匹配字符串起始位置的内容。\n",
    "        - 货币符号“$”：匹配字符串的结束位置的内容。\n",
    "        - 量化符号\"?\" \"*\" \"+\" \"{n}\" \"{n,}\" \"{m,n}\"：匹配需要的字符数。\n",
    "    - 量化符号解释说明：\n",
    "        - ?：前面的元素是可选的，并且最多匹配1次\n",
    "        - *：前面的元素会被匹配0次或多次\n",
    "        - +：前面的元素会被匹配1次或多次\n",
    "        - {n}：前面的元素会正好匹配n次\n",
    "        - {n,}：前面的元素至少会被匹配次\n",
    "        - {m,n}：前面的元素至少匹配n次，至多匹配m次\n",
    "    \n",
    "    - 2.转义字符\n",
    "        - \\w：字、字母、数字\n",
    "        - \\W：与\\w相反，非字、数字和字母\n",
    "        - \\s：空白字符\n",
    "        - \\S：非空白字符\n",
    "        - \\d：数字\n",
    "        - \\D：非数字\n",
    "        - \\b：单词边界\n",
    "        - \\B：非单词的边界\n",
    "\n"
   ]
  },
  {
   "cell_type": "code",
   "execution_count": null,
   "metadata": {},
   "outputs": [],
   "source": [
    "# ----------正则表达式----------\n",
    "re.match(' ',string=x).span() # 返回以patten开头的匹配结果\n",
    "re.search('今天',x).span()    # 返回匹配patten的位置\n",
    "re.findall('[0-9]+',string=x) # 返回所有满足patten的结果列表\n",
    "re.sub(pattern='[0-9]+',repl='A',string=x)\n",
    "re.split(pattern='[0-9]+',string=x)"
   ]
  },
  {
   "cell_type": "code",
   "execution_count": null,
   "metadata": {},
   "outputs": [],
   "source": [
    "# （1）通过re.sub()将“title”列的特殊符号●、★、→、空格、换行符（\\n）、制表符（\\t）删除。\n",
    "re.sub('[●★→\\s\\n\\t]',repl='',string=x)\n",
    "re.sub('●|★|→|\\s|\\n|\\t',repl='',string=x)\n",
    "data['title'].apply(lambda x:re.sub('●|★|→|\\s|\\n|\\t',repl='',string=x))\n",
    "\n",
    "# （2）通过re.findall()将“title”列中存在的所有电话号码（如：0755-89899）提取出来。\n",
    "data['title'].apply(lambda x:re.findall('电话.*：(\\d+-?\\d+)',x))\n",
    "\n",
    "# （3）通过re.findall()将“title”列中存在的所有电台频道（如：FM970）提取出来。\n",
    "data['title'].apply(lambda x:re.findall('FM\\d+',x))\n",
    "\n",
    "# （4）通过re.findall()将“title”列中存在的所有网址（如：http://www.582.com）提取出来。\n",
    "data['title'].apply(lambda x:re.findall('http:.*com',x))\n",
    "data['title'].apply(lambda x:re.findall('http:.+com',x))\n",
    "data['title'].apply(lambda x:re.findall('http:.{1,20}com',x))\n",
    "\n",
    "# （5）通过re.sub()将“title”列中的数字、字母删除。\n",
    "data['title'].apply(lambda x:re.sub('[\\da-zA-Z]|<.*>|\\n','',x))\n",
    "data['title'].apply(lambda x:re.sub('[0-9a-zA-Z]|<.*>|\\n','',x))\n",
    "\n"
   ]
  }
 ],
 "metadata": {
  "language_info": {
   "name": "python"
  },
  "orig_nbformat": 4
 },
 "nbformat": 4,
 "nbformat_minor": 2
}
