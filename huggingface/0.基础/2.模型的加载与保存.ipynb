{
 "cells": [
  {
   "cell_type": "markdown",
   "id": "5c0782e6",
   "metadata": {},
   "source": [
    "## 配置文件包括了模型的所有结构\n",
    "随机初始化一个BERT模型"
   ]
  },
  {
   "cell_type": "code",
   "execution_count": null,
   "id": "64a4181f",
   "metadata": {},
   "outputs": [],
   "source": [
    "import warnings\n",
    "warnings.filterwarnings('ignore')\n",
    "from transformers import BertConfig,BertModel\n",
    "\n",
    "# 配置文件\n",
    "config=BertConfig()\n",
    "\n",
    "# 用配置文件创建一个模型\n",
    "model=BertModel(config)"
   ]
  },
  {
   "cell_type": "code",
   "execution_count": null,
   "id": "4f0ad35f",
   "metadata": {},
   "outputs": [],
   "source": [
    "print(config)"
   ]
  },
  {
   "cell_type": "markdown",
   "id": "ece1eae7",
   "metadata": {},
   "source": [
    "整NLP要是没有预训练模型就啥也不是"
   ]
  },
  {
   "cell_type": "code",
   "execution_count": null,
   "id": "d0e33801",
   "metadata": {},
   "outputs": [],
   "source": [
    "from transformers import BertModel\n",
    "\n",
    "model=BertModel.from_pretrained('bert-base-cased')"
   ]
  },
  {
   "cell_type": "markdown",
   "id": "5b9a99d3",
   "metadata": {},
   "source": [
    "BERT模型介绍：https://huggingface.co/bert-base-cased    \n",
    "BERT家族成员，你可以选择的：https://huggingface.co/models?filter=bert"
   ]
  },
  {
   "cell_type": "markdown",
   "id": "705dc7c7",
   "metadata": {},
   "source": [
    "## 模型保存方法\n",
    "- pytorch_model.bin就是全部权重参数\n",
    "- config.json就是模型对应的配置文件"
   ]
  },
  {
   "cell_type": "code",
   "execution_count": null,
   "id": "0955370c",
   "metadata": {},
   "outputs": [],
   "source": [
    "model.save_pretrained('./')"
   ]
  }
 ],
 "metadata": {
  "kernelspec": {
   "display_name": "Python 3 (ipykernel)",
   "language": "python",
   "name": "python3"
  },
  "language_info": {
   "codemirror_mode": {
    "name": "ipython",
    "version": 3
   },
   "file_extension": ".py",
   "mimetype": "text/x-python",
   "name": "python",
   "nbconvert_exporter": "python",
   "pygments_lexer": "ipython3",
   "version": "3.10.9"
  }
 },
 "nbformat": 4,
 "nbformat_minor": 5
}
