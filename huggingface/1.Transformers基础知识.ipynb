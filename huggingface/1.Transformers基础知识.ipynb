{
 "cells": [
  {
   "cell_type": "markdown",
   "id": "b7cc5b05",
   "metadata": {},
   "source": [
    "### 常见自然语言处理任务\n",
    "- 情感分析（sentiment-analysia）：对给定的文本分析其情感极性\n",
    "- 文本生成（text-generation）：根据给定的文本进行生成\n",
    "- 命名实体识别（nre）：标记句子中的实体\n",
    "- 阅读理解（question-answering）：给定上下文与问题，从上下文中抽取答案\n",
    "- 掩码填充（fill-mask）：填充给定文本的掩码词\n",
    "- 机器翻译（translation）：将文本翻译成另一种语言\n",
    "- 特征提取（feature-extraction）：生成给定文本的张量表示\n",
    "- 对话机器人（conversional）：根据用户输入文本，产生回应，与用户对话"
   ]
  },
  {
   "cell_type": "markdown",
   "id": "5b39a378",
   "metadata": {},
   "source": [
    "### 自然语言处理的几个阶段\n",
    "- 第一阶段：统计模型+数据（特征工程）\n",
    "    - 决策树、SRM、HMM、CRF、TF-IDF、BOW\n",
    "- 第二阶段：神经网络+数据\n",
    "    - Linear、CNN、RNN、GRU、LSTM、Transformer、Word2vec、Glove\n",
    "- 第三阶段：神经网络+预训练模型+（少量）数据\n",
    "    - GPT、BERT、RoBERTa、ALBERT、BART、T5\n",
    "- 第四阶段：神经网络+更大的预训练模型+Prompt\n",
    "    - ChatGPT、Bloom、LLaMA、Alpaca、Vicuna、MOSS、文心一言、通义干问、星火"
   ]
  },
  {
   "cell_type": "markdown",
   "id": "9bde963c",
   "metadata": {},
   "source": [
    "### Transformers及相关库\n",
    "- Transformers:核心库，模型加载、模型训练、流水线等。\n",
    "- Tokenizer:分词器，对数据进行预处理，文本到token序列的互相转换\n",
    "- Datasets:数据集库，提供了数据集的加载、处理等方法\n",
    "- Evaluate:评估函数，提供各种评价指标的计算函数\n",
    "- PEFT:高效微调模型的库，提供了几种高效微调的方法，小参数量撬动大模型\n",
    "- Accelerate:分布式训练，提供了分布式训练解决方案，包括大模型的加载与推理解决方案\n",
    "- Optimum:优化加速库，支持多种后端，如Onnxruntime、OpenVino等\n",
    "- Gradio:可视化部署库，几行代码快速实现基于Web交互的算法演示系统"
   ]
  },
  {
   "cell_type": "code",
   "execution_count": null,
   "id": "c0593d69",
   "metadata": {},
   "outputs": [],
   "source": [
    "# 文本分类\n",
    "\n",
    "\n",
    "# 导入gradio\n",
    "import gradio as gr\n",
    "# 导入transformers相关包\n",
    "from transformers import *\n",
    "# 通过Interface加载pipeline并启动文本分类服务\n",
    "gr.Interface.from_pipeline(pipeline('text-classification',model='uer/roberta-base-finetuned-dianping-chinese')).launch()"
   ]
  },
  {
   "cell_type": "code",
   "execution_count": null,
   "id": "38a3bbca",
   "metadata": {},
   "outputs": [],
   "source": [
    "# 阅读理解\n",
    "\n",
    "# 导入gradio\n",
    "import gradio as gr\n",
    "# 导入transformers相关库\n",
    "from transformers import *\n",
    "# 通过Interface加载pipeline并启动阅读理解服务\n",
    "gr.Interface.from_pipeline(pipeline('question-answering',model='uer/roberta-base-chinese-extractive-qa')).launch()"
   ]
  },
  {
   "cell_type": "code",
   "execution_count": null,
   "id": "3634a78b",
   "metadata": {},
   "outputs": [],
   "source": []
  }
 ],
 "metadata": {
  "kernelspec": {
   "display_name": "Python 3 (ipykernel)",
   "language": "python",
   "name": "python3"
  },
  "language_info": {
   "codemirror_mode": {
    "name": "ipython",
    "version": 3
   },
   "file_extension": ".py",
   "mimetype": "text/x-python",
   "name": "python",
   "nbconvert_exporter": "python",
   "pygments_lexer": "ipython3",
   "version": "3.10.9"
  }
 },
 "nbformat": 4,
 "nbformat_minor": 5
}
