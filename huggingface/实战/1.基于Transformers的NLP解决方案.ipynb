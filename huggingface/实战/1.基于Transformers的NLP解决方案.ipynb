{
 "cells": [
  {
   "cell_type": "markdown",
   "metadata": {},
   "source": [
    "### (1)基于Transformers的NLP解决方案\n",
    "- 以文本分类为例\n",
    "    - Step1 导入相关包\n",
    "    - Step2 加载数据集                 （Datasets）\n",
    "    - Step3 数据集划分                 （Datasets）\n",
    "    - Step4 数据集预处理                （Tokenizer+Datasets）\n",
    "    - Step5 创建模型                    （Model）\n",
    "    - Step6 设置评估函数                （Evaluate）\n",
    "    - Step7 配置训练参数                （TrainingArguments）\n",
    "    - Step8 创建训练器                  （Trainer+DataCollator）\n",
    "    - Step9 模型训练、评估、预测（数据集）（Trainer）\n",
    "    - Step10 模型预测（单条）            （Pipeline）"
   ]
  },
  {
   "cell_type": "markdown",
   "metadata": {},
   "source": [
    "### (2)显存优化策略，4G显存跑BERT-Large\n",
    "#### 显存占用简单分析\n",
    "- 模型权重\n",
    "    - 4Bytes*模型参数量\n",
    "- 优化器状态\n",
    "    - 8Bytes*模型参数量，对于常用的AdamW优化器而言\n",
    "- 梯度\n",
    "    - 4Bytes*模型参数量\n",
    "- 前向激活值\n",
    "    - 取决于序列长度、隐层维度、Batch大小等多个因素\n",
    "\n",
    "\n",
    "#### 显存优化策略\n",
    "- hfl/chinese-macbert-large,330M\n",
    "\n",
    "\n",
    "\n",
    "优化策略|优化对象|显存占用|训练时间\n",
    "--|:--:|:--:|--:\n",
    "Baseline(BS 32,MaxLength 128)|-|15.2G|64s\n",
    "+Gradient Accumulation(BS 1,GA 32)|前向激活值|7.4G|259s\n",
    "+Gradient Checkpoints(BS 1,GA 32)|前向激活值|7.2G|422s\n",
    "+Adafactor Optiomizer(BS 1,GA 32)|优化器状态|5.0G|406s\n",
    "+Freeze Model(BS 1,GA 32)|前向激活值/梯度|3.5G|178s\n",
    "+Data Length(BS 1,GA 32,MaxLength 32)|前向激活值|3.4G|126s"
   ]
  },
  {
   "cell_type": "code",
   "execution_count": null,
   "metadata": {},
   "outputs": [],
   "source": []
  },
  {
   "cell_type": "markdown",
   "metadata": {},
   "source": [
    "### (3)实战"
   ]
  },
  {
   "cell_type": "markdown",
   "metadata": {},
   "source": [
    "#### Step1 导入相关包"
   ]
  },
  {
   "cell_type": "code",
   "execution_count": 1,
   "metadata": {},
   "outputs": [
    {
     "name": "stderr",
     "output_type": "stream",
     "text": [
      "c:\\Users\\ningmeng\\.conda\\envs\\pytorch\\lib\\site-packages\\tqdm\\auto.py:21: TqdmWarning: IProgress not found. Please update jupyter and ipywidgets. See https://ipywidgets.readthedocs.io/en/stable/user_install.html\n",
      "  from .autonotebook import tqdm as notebook_tqdm\n"
     ]
    }
   ],
   "source": [
    "import torch\n",
    "from transformers import AutoTokenizer,AutoModelForSequenceClassification,Trainer,TrainingArguments\n",
    "from datasets import load_dataset\n",
    "import evaluate\n",
    "from transformers import DataCollatorWithPadding"
   ]
  },
  {
   "cell_type": "markdown",
   "metadata": {},
   "source": [
    "#### Step2 数据加载"
   ]
  },
  {
   "cell_type": "code",
   "execution_count": 2,
   "metadata": {},
   "outputs": [
    {
     "data": {
      "text/plain": [
       "Dataset({\n",
       "    features: ['label', 'review'],\n",
       "    num_rows: 7765\n",
       "})"
      ]
     },
     "execution_count": 2,
     "metadata": {},
     "output_type": "execute_result"
    }
   ],
   "source": [
    "dataset=load_dataset('csv',data_files='./ChnSentiCorp_htl_all.csv',split='train')\n",
    "# 删除空行，不删map映射那里会报错\n",
    "dataset=dataset.filter(lambda x:x['review'] is not None)\n",
    "dataset"
   ]
  },
  {
   "cell_type": "markdown",
   "metadata": {},
   "source": [
    "#### Step3 数据划分"
   ]
  },
  {
   "cell_type": "code",
   "execution_count": 3,
   "metadata": {},
   "outputs": [
    {
     "data": {
      "text/plain": [
       "DatasetDict({\n",
       "    train: Dataset({\n",
       "        features: ['label', 'review'],\n",
       "        num_rows: 6988\n",
       "    })\n",
       "    test: Dataset({\n",
       "        features: ['label', 'review'],\n",
       "        num_rows: 777\n",
       "    })\n",
       "})"
      ]
     },
     "execution_count": 3,
     "metadata": {},
     "output_type": "execute_result"
    }
   ],
   "source": [
    "datasets=dataset.train_test_split(test_size=0.1)\n",
    "datasets"
   ]
  },
  {
   "cell_type": "markdown",
   "metadata": {},
   "source": [
    "#### Step4 数据预处理"
   ]
  },
  {
   "cell_type": "code",
   "execution_count": 4,
   "metadata": {},
   "outputs": [
    {
     "name": "stderr",
     "output_type": "stream",
     "text": [
      "Map: 100%|██████████| 6988/6988 [00:01<00:00, 3688.46 examples/s]\n",
      "Map: 100%|██████████| 777/777 [00:00<00:00, 3629.77 examples/s]\n"
     ]
    },
    {
     "data": {
      "text/plain": [
       "DatasetDict({\n",
       "    train: Dataset({\n",
       "        features: ['input_ids', 'token_type_ids', 'attention_mask', 'labels'],\n",
       "        num_rows: 6988\n",
       "    })\n",
       "    test: Dataset({\n",
       "        features: ['input_ids', 'token_type_ids', 'attention_mask', 'labels'],\n",
       "        num_rows: 777\n",
       "    })\n",
       "})"
      ]
     },
     "execution_count": 4,
     "metadata": {},
     "output_type": "execute_result"
    }
   ],
   "source": [
    "tokenizer=AutoTokenizer.from_pretrained('rbt3')\n",
    "def pre_data(data):\n",
    "    examples=tokenizer(data['review'],max_length=32,truncation=True,padding=\"max_length\")\n",
    "    examples['labels']=data['label']\n",
    "    return examples\n",
    "tokenizer_datasets=datasets.map(pre_data,batched=True,remove_columns=datasets['train'].column_names)\n",
    "tokenizer_datasets"
   ]
  },
  {
   "cell_type": "markdown",
   "metadata": {},
   "source": [
    "#### Step5 模型构建"
   ]
  },
  {
   "cell_type": "code",
   "execution_count": 5,
   "metadata": {},
   "outputs": [
    {
     "name": "stderr",
     "output_type": "stream",
     "text": [
      "Some weights of BertForSequenceClassification were not initialized from the model checkpoint at rbt3 and are newly initialized: ['classifier.bias', 'classifier.weight']\n",
      "You should probably TRAIN this model on a down-stream task to be able to use it for predictions and inference.\n"
     ]
    }
   ],
   "source": [
    "model=AutoModelForSequenceClassification.from_pretrained('rbt3')"
   ]
  },
  {
   "cell_type": "markdown",
   "metadata": {},
   "source": [
    "#### Step6 设置评估函数"
   ]
  },
  {
   "cell_type": "code",
   "execution_count": 15,
   "metadata": {},
   "outputs": [],
   "source": [
    "acc_metric=evaluate.load('accuracy')\n",
    "f1_metric=evaluate.load('f1')"
   ]
  },
  {
   "cell_type": "code",
   "execution_count": 16,
   "metadata": {},
   "outputs": [],
   "source": [
    "def evaluate_metric(eval_predict):\n",
    "    predictions,label=eval_predict\n",
    "    predictions=predictions.argmax(axis=-1)\n",
    "    acc=acc_metric.compute(predictions=predictions,references=label)\n",
    "    f1=f1_metric.compute(predictions=predictions,references=label)\n",
    "    acc.update(f1)\n",
    "    return acc\n",
    "\n"
   ]
  },
  {
   "cell_type": "markdown",
   "metadata": {},
   "source": [
    "#### Step7 配置训练参数Arguments"
   ]
  },
  {
   "cell_type": "code",
   "execution_count": 17,
   "metadata": {},
   "outputs": [],
   "source": [
    "training_args=TrainingArguments(\n",
    "    output_dir=\"./checkpoints\",      # 输出文件夹\n",
    "    per_device_train_batch_size=16,  # 训练时的batch_size\n",
    "    gradient_accumulation_steps=32,  # *** 梯度累加 ***\n",
    "    gradient_checkpointing=True,     # *** 梯度检查点 ***\n",
    "    optim=\"adafactor\",               # *** adafactor优化器 *** \n",
    "    per_device_eval_batch_size=16,  # 验证时的batch_size\n",
    "    logging_steps=10,                # log 打印的频率\n",
    "    evaluation_strategy=\"epoch\",     # 评估策略\n",
    "    save_strategy=\"epoch\",           # 保存策略\n",
    "    save_total_limit=3,              # 最大保存数\n",
    "    learning_rate=2e-5,              # 学习率\n",
    "    weight_decay=0.01,               # weight_decay\n",
    "    metric_for_best_model=\"f1\",      # 设定评估指标\n",
    "    load_best_model_at_end=True      # 训练完成后加载最优模型\n",
    ")"
   ]
  },
  {
   "cell_type": "markdown",
   "metadata": {},
   "source": [
    "#### Step8 创建训练器"
   ]
  },
  {
   "cell_type": "code",
   "execution_count": 18,
   "metadata": {},
   "outputs": [
    {
     "name": "stderr",
     "output_type": "stream",
     "text": [
      "C:\\Users\\ningmeng\\AppData\\Roaming\\Python\\Python310\\site-packages\\accelerate\\accelerator.py:432: FutureWarning: Passing the following arguments to `Accelerator` is deprecated and will be removed in version 1.0 of Accelerate: dict_keys(['dispatch_batches', 'split_batches', 'even_batches', 'use_seedable_sampler']). Please pass an `accelerate.DataLoaderConfiguration` instead: \n",
      "dataloader_config = DataLoaderConfiguration(dispatch_batches=None, split_batches=False, even_batches=True, use_seedable_sampler=True)\n",
      "  warnings.warn(\n"
     ]
    }
   ],
   "source": [
    "\n",
    "# ***参数冻结***\n",
    "for name,param in model.bert.named_parameters():\n",
    "    param.requires_grad=False\n",
    "\n",
    "trainer=Trainer(\n",
    "    model=model,\n",
    "    args=training_args,\n",
    "    train_dataset=tokenizer_datasets['train'],\n",
    "    eval_dataset=tokenizer_datasets['test'],\n",
    "    data_collator=DataCollatorWithPadding(tokenizer=tokenizer),#：数据收集器，这里使用了 DataCollatorWithPadding 类，用于处理输入数据的批处理和填充。\n",
    "    compute_metrics=evaluate_metric\n",
    ")"
   ]
  },
  {
   "cell_type": "markdown",
   "metadata": {},
   "source": [
    "#### Step9 模型训练、评估、预测"
   ]
  },
  {
   "cell_type": "code",
   "execution_count": 19,
   "metadata": {},
   "outputs": [
    {
     "name": "stderr",
     "output_type": "stream",
     "text": [
      " 33%|███▎      | 13/39 [22:37<45:14, 104.42s/it]\n",
      "  0%|          | 0/39 [00:00<?, ?it/s]c:\\Users\\ningmeng\\.conda\\envs\\pytorch\\lib\\site-packages\\torch\\utils\\checkpoint.py:460: UserWarning: torch.utils.checkpoint: please pass in use_reentrant=True or use_reentrant=False explicitly. The default value of use_reentrant will be updated to be False in the future. To maintain current behavior, pass use_reentrant=True. It is recommended that you use use_reentrant=False. Refer to docs for more details on the differences between the two variants.\n",
      "  warnings.warn(\n",
      "c:\\Users\\ningmeng\\.conda\\envs\\pytorch\\lib\\site-packages\\torch\\utils\\checkpoint.py:90: UserWarning: None of the inputs have requires_grad=True. Gradients will be None\n",
      "  warnings.warn(\n",
      "                                               \n",
      "\n",
      "\u001b[A\u001b[A                                         \n",
      "\n",
      "\n",
      " 26%|██▌       | 10/39 [01:32<03:32,  7.31s/it]\n",
      "\u001b[A\n",
      "\n",
      "\u001b[A\u001b[A"
     ]
    },
    {
     "name": "stdout",
     "output_type": "stream",
     "text": [
      "{'loss': 0.7513, 'grad_norm': 6.907197952270508, 'learning_rate': 1.4871794871794874e-05, 'epoch': 0.73}\n"
     ]
    },
    {
     "name": "stderr",
     "output_type": "stream",
     "text": [
      "                                               \n",
      "\n",
      "\u001b[A\u001b[A                                         \n",
      "\n",
      "\n",
      "\u001b[A\u001b[A\u001b[A                                      \n",
      " 33%|███▎      | 13/39 [02:08<03:00,  6.96s/it]\n",
      "\u001b[A\n",
      "\n",
      "\u001b[A\u001b[Ac:\\Users\\ningmeng\\.conda\\envs\\pytorch\\lib\\site-packages\\torch\\utils\\checkpoint.py:460: UserWarning: torch.utils.checkpoint: please pass in use_reentrant=True or use_reentrant=False explicitly. The default value of use_reentrant will be updated to be False in the future. To maintain current behavior, pass use_reentrant=True. It is recommended that you use use_reentrant=False. Refer to docs for more details on the differences between the two variants.\n",
      "  warnings.warn(\n",
      "c:\\Users\\ningmeng\\.conda\\envs\\pytorch\\lib\\site-packages\\torch\\utils\\checkpoint.py:90: UserWarning: None of the inputs have requires_grad=True. Gradients will be None\n",
      "  warnings.warn(\n"
     ]
    },
    {
     "name": "stdout",
     "output_type": "stream",
     "text": [
      "{'eval_loss': 0.7160607576370239, 'eval_accuracy': 0.40283140283140284, 'eval_f1': 0.2772585669781931, 'eval_runtime': 11.3677, 'eval_samples_per_second': 68.352, 'eval_steps_per_second': 4.31, 'epoch': 0.95}\n"
     ]
    },
    {
     "name": "stderr",
     "output_type": "stream",
     "text": [
      "                                               \n",
      "\n",
      "\u001b[A\u001b[A                                         \n",
      "\n",
      "\n",
      " 51%|█████▏    | 20/39 [02:52<02:17,  7.25s/it]\n",
      "\u001b[A\n",
      "\n",
      "\u001b[A\u001b[A"
     ]
    },
    {
     "name": "stdout",
     "output_type": "stream",
     "text": [
      "{'loss': 0.7207, 'grad_norm': 5.634609222412109, 'learning_rate': 9.743589743589744e-06, 'epoch': 1.46}\n"
     ]
    },
    {
     "name": "stderr",
     "output_type": "stream",
     "text": [
      "                                               \n",
      "\n",
      "\u001b[A\u001b[A                                         \n",
      "\n",
      "\n",
      "\u001b[A\u001b[A\u001b[A                                      \n",
      " 69%|██████▉   | 27/39 [03:54<01:22,  6.85s/it]\n",
      "\u001b[A\n",
      "\n",
      "\u001b[A\u001b[Ac:\\Users\\ningmeng\\.conda\\envs\\pytorch\\lib\\site-packages\\torch\\utils\\checkpoint.py:460: UserWarning: torch.utils.checkpoint: please pass in use_reentrant=True or use_reentrant=False explicitly. The default value of use_reentrant will be updated to be False in the future. To maintain current behavior, pass use_reentrant=True. It is recommended that you use use_reentrant=False. Refer to docs for more details on the differences between the two variants.\n",
      "  warnings.warn(\n",
      "c:\\Users\\ningmeng\\.conda\\envs\\pytorch\\lib\\site-packages\\torch\\utils\\checkpoint.py:90: UserWarning: None of the inputs have requires_grad=True. Gradients will be None\n",
      "  warnings.warn(\n"
     ]
    },
    {
     "name": "stdout",
     "output_type": "stream",
     "text": [
      "{'eval_loss': 0.6900193095207214, 'eval_accuracy': 0.5263835263835264, 'eval_f1': 0.5740740740740741, 'eval_runtime': 11.7365, 'eval_samples_per_second': 66.204, 'eval_steps_per_second': 4.175, 'epoch': 1.98}\n"
     ]
    },
    {
     "name": "stderr",
     "output_type": "stream",
     "text": [
      "                                               \n",
      "\n",
      "\u001b[A\u001b[A                                         \n",
      "\n",
      "\n",
      " 77%|███████▋  | 30/39 [04:16<01:22,  9.21s/it]\n",
      "\u001b[A\n",
      "\n",
      "\u001b[A\u001b[A"
     ]
    },
    {
     "name": "stdout",
     "output_type": "stream",
     "text": [
      "{'loss': 0.6995, 'grad_norm': 5.7766618728637695, 'learning_rate': 4.615384615384616e-06, 'epoch': 2.2}\n"
     ]
    },
    {
     "name": "stderr",
     "output_type": "stream",
     "text": [
      "                                               \n",
      "\n",
      "\u001b[A\u001b[A                                         \n",
      "\n",
      "\n",
      "\u001b[A\u001b[A\u001b[A                                      \n",
      "100%|██████████| 39/39 [05:41<00:00,  8.06s/it]\n",
      "\u001b[A\n",
      "\n",
      "\u001b[A\u001b[A"
     ]
    },
    {
     "name": "stdout",
     "output_type": "stream",
     "text": [
      "{'eval_loss': 0.6832708120346069, 'eval_accuracy': 0.564993564993565, 'eval_f1': 0.6334056399132321, 'eval_runtime': 13.1849, 'eval_samples_per_second': 58.931, 'eval_steps_per_second': 3.716, 'epoch': 2.86}\n"
     ]
    },
    {
     "name": "stderr",
     "output_type": "stream",
     "text": [
      "                                               \n",
      "\n",
      "\u001b[A\u001b[A                                         \n",
      "\n",
      "\n",
      "100%|██████████| 39/39 [05:41<00:00,  8.06s/it]\n",
      "\u001b[A\n",
      "\n",
      "100%|██████████| 39/39 [05:41<00:00,  8.76s/it]"
     ]
    },
    {
     "name": "stdout",
     "output_type": "stream",
     "text": [
      "{'train_runtime': 341.4684, 'train_samples_per_second': 61.394, 'train_steps_per_second': 0.114, 'train_loss': 0.7162004739810259, 'epoch': 2.86}\n"
     ]
    },
    {
     "name": "stderr",
     "output_type": "stream",
     "text": [
      "\n"
     ]
    },
    {
     "data": {
      "text/plain": [
       "TrainOutput(global_step=39, training_loss=0.7162004739810259, metrics={'train_runtime': 341.4684, 'train_samples_per_second': 61.394, 'train_steps_per_second': 0.114, 'train_loss': 0.7162004739810259, 'epoch': 2.86})"
      ]
     },
     "execution_count": 19,
     "metadata": {},
     "output_type": "execute_result"
    }
   ],
   "source": [
    "# 训练\n",
    "trainer.train()"
   ]
  },
  {
   "cell_type": "code",
   "execution_count": 20,
   "metadata": {},
   "outputs": [
    {
     "name": "stderr",
     "output_type": "stream",
     "text": [
      "100%|██████████| 49/49 [00:11<00:00,  4.29it/s]\n"
     ]
    },
    {
     "data": {
      "text/plain": [
       "{'eval_loss': 0.6832708120346069,\n",
       " 'eval_accuracy': 0.564993564993565,\n",
       " 'eval_f1': 0.6334056399132321,\n",
       " 'eval_runtime': 11.7526,\n",
       " 'eval_samples_per_second': 66.113,\n",
       " 'eval_steps_per_second': 4.169,\n",
       " 'epoch': 2.86}"
      ]
     },
     "execution_count": 20,
     "metadata": {},
     "output_type": "execute_result"
    }
   ],
   "source": [
    "# 评估\n",
    "trainer.evaluate(tokenizer_datasets['test'])"
   ]
  },
  {
   "cell_type": "code",
   "execution_count": 24,
   "metadata": {},
   "outputs": [
    {
     "name": "stderr",
     "output_type": "stream",
     "text": [
      "100%|██████████| 49/49 [00:13<00:00,  3.75it/s]\n"
     ]
    },
    {
     "data": {
      "text/plain": [
       "PredictionOutput(predictions=array([[-0.04740256,  0.0760574 ],\n",
       "       [ 0.09700981, -0.0429115 ],\n",
       "       [ 0.23148103,  0.3142735 ],\n",
       "       ...,\n",
       "       [-0.06397601,  0.19077998],\n",
       "       [ 0.39171207,  0.0683006 ],\n",
       "       [ 0.21678816,  0.1644122 ]], dtype=float32), label_ids=array([1, 1, 1, 0, 1, 1, 1, 1, 0, 1, 1, 1, 0, 1, 1, 1, 1, 1, 0, 0, 0, 0,\n",
       "       1, 0, 1, 0, 1, 0, 1, 1, 1, 1, 0, 1, 1, 1, 1, 0, 1, 0, 1, 1, 1, 1,\n",
       "       1, 1, 0, 1, 1, 1, 1, 1, 1, 1, 1, 0, 1, 1, 1, 1, 0, 0, 0, 0, 1, 1,\n",
       "       1, 1, 0, 1, 0, 1, 1, 0, 1, 1, 1, 1, 1, 0, 0, 0, 0, 1, 1, 0, 0, 1,\n",
       "       1, 1, 0, 1, 1, 1, 0, 1, 1, 0, 1, 0, 1, 0, 0, 1, 1, 1, 1, 1, 1, 1,\n",
       "       1, 1, 1, 1, 1, 1, 0, 1, 1, 1, 1, 1, 0, 1, 0, 1, 1, 0, 1, 0, 1, 0,\n",
       "       1, 0, 1, 0, 1, 0, 0, 1, 0, 1, 0, 1, 1, 1, 0, 1, 0, 1, 0, 0, 1, 0,\n",
       "       1, 0, 1, 1, 1, 1, 0, 1, 1, 1, 0, 0, 1, 1, 1, 1, 1, 0, 1, 0, 1, 1,\n",
       "       0, 0, 1, 1, 1, 1, 0, 0, 0, 0, 1, 1, 1, 1, 1, 0, 1, 1, 1, 0, 1, 1,\n",
       "       0, 1, 1, 1, 0, 0, 1, 1, 0, 1, 0, 1, 1, 1, 1, 1, 0, 1, 0, 0, 1, 0,\n",
       "       0, 1, 0, 1, 1, 1, 1, 1, 1, 1, 1, 1, 1, 1, 1, 1, 1, 1, 1, 0, 1, 1,\n",
       "       0, 1, 1, 1, 1, 1, 1, 1, 0, 0, 0, 1, 0, 0, 1, 0, 1, 1, 1, 0, 1, 1,\n",
       "       1, 1, 1, 1, 1, 1, 1, 1, 1, 1, 0, 1, 1, 0, 1, 1, 1, 1, 1, 1, 0, 1,\n",
       "       1, 1, 0, 1, 0, 1, 1, 1, 1, 0, 0, 0, 0, 1, 1, 1, 1, 1, 1, 1, 1, 1,\n",
       "       1, 1, 1, 0, 1, 1, 1, 1, 0, 1, 1, 1, 1, 0, 1, 0, 0, 0, 1, 0, 1, 0,\n",
       "       1, 1, 0, 1, 1, 0, 1, 1, 1, 0, 0, 1, 1, 0, 1, 1, 1, 1, 0, 1, 0, 0,\n",
       "       1, 1, 1, 0, 1, 1, 0, 0, 0, 1, 0, 0, 1, 1, 1, 1, 1, 0, 0, 1, 1, 1,\n",
       "       0, 0, 1, 1, 0, 0, 0, 1, 0, 1, 1, 1, 0, 1, 0, 0, 1, 0, 0, 1, 0, 0,\n",
       "       1, 0, 1, 1, 1, 1, 1, 1, 1, 1, 1, 0, 1, 1, 1, 1, 1, 0, 1, 1, 1, 0,\n",
       "       1, 0, 1, 1, 1, 1, 1, 1, 1, 1, 0, 1, 1, 1, 1, 1, 1, 0, 1, 1, 1, 0,\n",
       "       1, 1, 1, 0, 1, 1, 1, 1, 1, 0, 1, 1, 1, 1, 1, 1, 0, 1, 1, 1, 1, 0,\n",
       "       0, 0, 1, 0, 1, 1, 1, 0, 0, 1, 0, 1, 0, 1, 1, 1, 0, 1, 0, 1, 0, 1,\n",
       "       1, 1, 1, 1, 0, 1, 1, 1, 1, 1, 0, 1, 1, 0, 0, 0, 0, 0, 0, 1, 1, 1,\n",
       "       1, 1, 0, 1, 1, 1, 0, 0, 1, 1, 0, 0, 1, 1, 1, 1, 1, 1, 0, 1, 1, 0,\n",
       "       0, 1, 1, 1, 0, 0, 0, 1, 0, 1, 1, 0, 1, 0, 1, 1, 0, 0, 1, 1, 1, 1,\n",
       "       0, 0, 0, 1, 1, 1, 1, 0, 0, 1, 1, 0, 1, 1, 0, 1, 0, 1, 0, 0, 0, 1,\n",
       "       1, 1, 0, 1, 1, 1, 1, 0, 0, 1, 1, 1, 1, 1, 1, 1, 1, 1, 0, 0, 1, 0,\n",
       "       0, 1, 0, 1, 0, 1, 1, 1, 1, 1, 1, 1, 1, 1, 1, 0, 1, 1, 1, 1, 1, 1,\n",
       "       1, 0, 1, 1, 0, 0, 0, 1, 0, 1, 1, 1, 1, 1, 1, 1, 0, 1, 0, 1, 1, 1,\n",
       "       0, 1, 0, 0, 1, 1, 1, 1, 1, 1, 1, 1, 1, 0, 1, 0, 1, 1, 1, 1, 0, 1,\n",
       "       0, 0, 1, 0, 1, 1, 1, 0, 0, 1, 0, 0, 0, 1, 1, 1, 1, 0, 0, 0, 1, 0,\n",
       "       0, 1, 0, 1, 1, 1, 0, 0, 1, 1, 1, 1, 1, 1, 1, 1, 1, 1, 1, 1, 1, 0,\n",
       "       1, 1, 0, 0, 1, 1, 1, 1, 1, 1, 1, 1, 0, 0, 1, 1, 1, 0, 0, 1, 1, 1,\n",
       "       1, 1, 1, 1, 0, 0, 1, 1, 0, 1, 1, 1, 1, 1, 1, 1, 1, 1, 1, 1, 1, 1,\n",
       "       1, 1, 0, 1, 1, 1, 1, 1, 1, 1, 1, 1, 1, 1, 1, 0, 1, 0, 0, 0, 1, 0,\n",
       "       1, 0, 1, 0, 1, 0, 1], dtype=int64), metrics={'test_loss': 0.6832708120346069, 'test_accuracy': 0.564993564993565, 'test_f1': 0.6334056399132321, 'test_runtime': 13.6157, 'test_samples_per_second': 57.067, 'test_steps_per_second': 3.599})"
      ]
     },
     "execution_count": 24,
     "metadata": {},
     "output_type": "execute_result"
    }
   ],
   "source": [
    "# 预测\n",
    "pre=trainer.predict(tokenizer_datasets['test'])\n",
    "pre"
   ]
  },
  {
   "cell_type": "code",
   "execution_count": 33,
   "metadata": {},
   "outputs": [],
   "source": [
    "id2_label={0:'差评',1:'好评'}\n",
    "model.config.id2label=id2_label"
   ]
  },
  {
   "cell_type": "code",
   "execution_count": 41,
   "metadata": {},
   "outputs": [
    {
     "data": {
      "text/plain": [
       "array(['好评', '好评', '好评', '差评', '好评', '好评', '好评', '好评', '差评', '好评', '好评',\n",
       "       '好评', '差评', '好评', '好评', '好评', '好评', '好评', '差评', '差评', '差评', '差评',\n",
       "       '好评', '差评', '好评', '差评', '好评', '差评', '好评', '好评', '好评', '好评', '差评',\n",
       "       '好评', '好评', '好评', '好评', '差评', '好评', '差评', '好评', '好评', '好评', '好评',\n",
       "       '好评', '好评', '差评', '好评', '好评', '好评', '好评', '好评', '好评', '好评', '好评',\n",
       "       '差评', '好评', '好评', '好评', '好评', '差评', '差评', '差评', '差评', '好评', '好评',\n",
       "       '好评', '好评', '差评', '好评', '差评', '好评', '好评', '差评', '好评', '好评', '好评',\n",
       "       '好评', '好评', '差评', '差评', '差评', '差评', '好评', '好评', '差评', '差评', '好评',\n",
       "       '好评', '好评', '差评', '好评', '好评', '好评', '差评', '好评', '好评', '差评', '好评',\n",
       "       '差评', '好评', '差评', '差评', '好评', '好评', '好评', '好评', '好评', '好评', '好评',\n",
       "       '好评', '好评', '好评', '好评', '好评', '好评', '差评', '好评', '好评', '好评', '好评',\n",
       "       '好评', '差评', '好评', '差评', '好评', '好评', '差评', '好评', '差评', '好评', '差评',\n",
       "       '好评', '差评', '好评', '差评', '好评', '差评', '差评', '好评', '差评', '好评', '差评',\n",
       "       '好评', '好评', '好评', '差评', '好评', '差评', '好评', '差评', '差评', '好评', '差评',\n",
       "       '好评', '差评', '好评', '好评', '好评', '好评', '差评', '好评', '好评', '好评', '差评',\n",
       "       '差评', '好评', '好评', '好评', '好评', '好评', '差评', '好评', '差评', '好评', '好评',\n",
       "       '差评', '差评', '好评', '好评', '好评', '好评', '差评', '差评', '差评', '差评', '好评',\n",
       "       '好评', '好评', '好评', '好评', '差评', '好评', '好评', '好评', '差评', '好评', '好评',\n",
       "       '差评', '好评', '好评', '好评', '差评', '差评', '好评', '好评', '差评', '好评', '差评',\n",
       "       '好评', '好评', '好评', '好评', '好评', '差评', '好评', '差评', '差评', '好评', '差评',\n",
       "       '差评', '好评', '差评', '好评', '好评', '好评', '好评', '好评', '好评', '好评', '好评',\n",
       "       '好评', '好评', '好评', '好评', '好评', '好评', '好评', '好评', '差评', '好评', '好评',\n",
       "       '差评', '好评', '好评', '好评', '好评', '好评', '好评', '好评', '差评', '差评', '差评',\n",
       "       '好评', '差评', '差评', '好评', '差评', '好评', '好评', '好评', '差评', '好评', '好评',\n",
       "       '好评', '好评', '好评', '好评', '好评', '好评', '好评', '好评', '好评', '好评', '差评',\n",
       "       '好评', '好评', '差评', '好评', '好评', '好评', '好评', '好评', '好评', '差评', '好评',\n",
       "       '好评', '好评', '差评', '好评', '差评', '好评', '好评', '好评', '好评', '差评', '差评',\n",
       "       '差评', '差评', '好评', '好评', '好评', '好评', '好评', '好评', '好评', '好评', '好评',\n",
       "       '好评', '好评', '好评', '差评', '好评', '好评', '好评', '好评', '差评', '好评', '好评',\n",
       "       '好评', '好评', '差评', '好评', '差评', '差评', '差评', '好评', '差评', '好评', '差评',\n",
       "       '好评', '好评', '差评', '好评', '好评', '差评', '好评', '好评', '好评', '差评', '差评',\n",
       "       '好评', '好评', '差评', '好评', '好评', '好评', '好评', '差评', '好评', '差评', '差评',\n",
       "       '好评', '好评', '好评', '差评', '好评', '好评', '差评', '差评', '差评', '好评', '差评',\n",
       "       '差评', '好评', '好评', '好评', '好评', '好评', '差评', '差评', '好评', '好评', '好评',\n",
       "       '差评', '差评', '好评', '好评', '差评', '差评', '差评', '好评', '差评', '好评', '好评',\n",
       "       '好评', '差评', '好评', '差评', '差评', '好评', '差评', '差评', '好评', '差评', '差评',\n",
       "       '好评', '差评', '好评', '好评', '好评', '好评', '好评', '好评', '好评', '好评', '好评',\n",
       "       '差评', '好评', '好评', '好评', '好评', '好评', '差评', '好评', '好评', '好评', '差评',\n",
       "       '好评', '差评', '好评', '好评', '好评', '好评', '好评', '好评', '好评', '好评', '差评',\n",
       "       '好评', '好评', '好评', '好评', '好评', '好评', '差评', '好评', '好评', '好评', '差评',\n",
       "       '好评', '好评', '好评', '差评', '好评', '好评', '好评', '好评', '好评', '差评', '好评',\n",
       "       '好评', '好评', '好评', '好评', '好评', '差评', '好评', '好评', '好评', '好评', '差评',\n",
       "       '差评', '差评', '好评', '差评', '好评', '好评', '好评', '差评', '差评', '好评', '差评',\n",
       "       '好评', '差评', '好评', '好评', '好评', '差评', '好评', '差评', '好评', '差评', '好评',\n",
       "       '好评', '好评', '好评', '好评', '差评', '好评', '好评', '好评', '好评', '好评', '差评',\n",
       "       '好评', '好评', '差评', '差评', '差评', '差评', '差评', '差评', '好评', '好评', '好评',\n",
       "       '好评', '好评', '差评', '好评', '好评', '好评', '差评', '差评', '好评', '好评', '差评',\n",
       "       '差评', '好评', '好评', '好评', '好评', '好评', '好评', '差评', '好评', '好评', '差评',\n",
       "       '差评', '好评', '好评', '好评', '差评', '差评', '差评', '好评', '差评', '好评', '好评',\n",
       "       '差评', '好评', '差评', '好评', '好评', '差评', '差评', '好评', '好评', '好评', '好评',\n",
       "       '差评', '差评', '差评', '好评', '好评', '好评', '好评', '差评', '差评', '好评', '好评',\n",
       "       '差评', '好评', '好评', '差评', '好评', '差评', '好评', '差评', '差评', '差评', '好评',\n",
       "       '好评', '好评', '差评', '好评', '好评', '好评', '好评', '差评', '差评', '好评', '好评',\n",
       "       '好评', '好评', '好评', '好评', '好评', '好评', '好评', '差评', '差评', '好评', '差评',\n",
       "       '差评', '好评', '差评', '好评', '差评', '好评', '好评', '好评', '好评', '好评', '好评',\n",
       "       '好评', '好评', '好评', '好评', '差评', '好评', '好评', '好评', '好评', '好评', '好评',\n",
       "       '好评', '差评', '好评', '好评', '差评', '差评', '差评', '好评', '差评', '好评', '好评',\n",
       "       '好评', '好评', '好评', '好评', '好评', '差评', '好评', '差评', '好评', '好评', '好评',\n",
       "       '差评', '好评', '差评', '差评', '好评', '好评', '好评', '好评', '好评', '好评', '好评',\n",
       "       '好评', '好评', '差评', '好评', '差评', '好评', '好评', '好评', '好评', '差评', '好评',\n",
       "       '差评', '差评', '好评', '差评', '好评', '好评', '好评', '差评', '差评', '好评', '差评',\n",
       "       '差评', '差评', '好评', '好评', '好评', '好评', '差评', '差评', '差评', '好评', '差评',\n",
       "       '差评', '好评', '差评', '好评', '好评', '好评', '差评', '差评', '好评', '好评', '好评',\n",
       "       '好评', '好评', '好评', '好评', '好评', '好评', '好评', '好评', '好评', '好评', '差评',\n",
       "       '好评', '好评', '差评', '差评', '好评', '好评', '好评', '好评', '好评', '好评', '好评',\n",
       "       '好评', '差评', '差评', '好评', '好评', '好评', '差评', '差评', '好评', '好评', '好评',\n",
       "       '好评', '好评', '好评', '好评', '差评', '差评', '好评', '好评', '差评', '好评', '好评',\n",
       "       '好评', '好评', '好评', '好评', '好评', '好评', '好评', '好评', '好评', '好评', '好评',\n",
       "       '好评', '好评', '差评', '好评', '好评', '好评', '好评', '好评', '好评', '好评', '好评',\n",
       "       '好评', '好评', '好评', '好评', '差评', '好评', '差评', '差评', '差评', '好评', '差评',\n",
       "       '好评', '差评', '好评', '差评', '好评', '差评', '好评'], dtype=object)"
      ]
     },
     "execution_count": 41,
     "metadata": {},
     "output_type": "execute_result"
    }
   ],
   "source": [
    "import pandas as pd\n",
    "pre_result=pd.Series(pre.label_ids).map({0:'差评',1:'好评'}).values\n",
    "pre_result"
   ]
  },
  {
   "cell_type": "code",
   "execution_count": null,
   "metadata": {},
   "outputs": [],
   "source": []
  }
 ],
 "metadata": {
  "kernelspec": {
   "display_name": "pytorch",
   "language": "python",
   "name": "python3"
  },
  "language_info": {
   "codemirror_mode": {
    "name": "ipython",
    "version": 3
   },
   "file_extension": ".py",
   "mimetype": "text/x-python",
   "name": "python",
   "nbconvert_exporter": "python",
   "pygments_lexer": "ipython3",
   "version": "3.10.13"
  },
  "orig_nbformat": 4
 },
 "nbformat": 4,
 "nbformat_minor": 2
}
