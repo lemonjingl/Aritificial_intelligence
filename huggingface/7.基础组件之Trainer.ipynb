{
 "cells": [
  {
   "cell_type": "markdown",
   "metadata": {},
   "source": [
    "### (1)Trainer简介\n",
    "- 简介\n",
    "    - Trainer是transformers库中提供的训练函数，内部封装了完整的训练、评估逻辑，并集成了多种的后端，如DeepSpeed、Pytorch FSDP等，搭配TrainingArguments对训练过程中的各项参数进行配置，可以非常方便快捷地启动模型单机/分布式训练\n",
    "    - 需要注意的是\n",
    "        - 使用Trainer进行模型训练对模型的输入输出是有限的，要求模型返回元组或者ModelOutput的子类\n",
    "        - 如果输入中提供了labels,模型要能返回loss结果，如果是元组，要求loss为元组中的第一个之\n",
    "- 文档地址\n",
    "    - https://huggingface.co/docs/transformers/main_classes/traine#trainer"
   ]
  },
  {
   "cell_type": "markdown",
   "metadata": {},
   "source": [
    "### (2)TrainingArguments+Trainer代码优化,\n",
    "#### 模型微调代码优化\n",
    "- 任务类型\n",
    "    - 文本分类\n",
    "- 使用模型\n",
    "    - hfl/rbt3\n",
    "- 优化内容\n",
    "    - 使用Trainer+TrainingArgument优化训练流程"
   ]
  },
  {
   "cell_type": "markdown",
   "metadata": {},
   "source": []
  }
 ],
 "metadata": {
  "kernelspec": {
   "display_name": "pytorch",
   "language": "python",
   "name": "python3"
  },
  "language_info": {
   "name": "python",
   "version": "3.10.13"
  },
  "orig_nbformat": 4
 },
 "nbformat": 4,
 "nbformat_minor": 2
}
